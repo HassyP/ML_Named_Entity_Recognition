{
 "cells": [
  {
   "cell_type": "code",
   "execution_count": 1,
   "id": "3da92622",
   "metadata": {
    "ExecuteTime": {
     "end_time": "2023-09-01T10:25:07.377119Z",
     "start_time": "2023-09-01T10:25:07.020018Z"
    }
   },
   "outputs": [],
   "source": [
    "import pandas as pd"
   ]
  },
  {
   "cell_type": "code",
   "execution_count": 2,
   "id": "0246c8ce",
   "metadata": {
    "ExecuteTime": {
     "end_time": "2023-09-01T10:25:07.852023Z",
     "start_time": "2023-09-01T10:25:07.378621Z"
    }
   },
   "outputs": [
    {
     "data": {
      "text/html": [
       "<div>\n",
       "<style scoped>\n",
       "    .dataframe tbody tr th:only-of-type {\n",
       "        vertical-align: middle;\n",
       "    }\n",
       "\n",
       "    .dataframe tbody tr th {\n",
       "        vertical-align: top;\n",
       "    }\n",
       "\n",
       "    .dataframe thead th {\n",
       "        text-align: right;\n",
       "    }\n",
       "</style>\n",
       "<table border=\"1\" class=\"dataframe\">\n",
       "  <thead>\n",
       "    <tr style=\"text-align: right;\">\n",
       "      <th></th>\n",
       "      <th>Sentence #</th>\n",
       "      <th>Word</th>\n",
       "      <th>POS</th>\n",
       "      <th>Tag</th>\n",
       "    </tr>\n",
       "  </thead>\n",
       "  <tbody>\n",
       "    <tr>\n",
       "      <th>0</th>\n",
       "      <td>Sentence: 1</td>\n",
       "      <td>Thousands</td>\n",
       "      <td>NNS</td>\n",
       "      <td>O</td>\n",
       "    </tr>\n",
       "    <tr>\n",
       "      <th>1</th>\n",
       "      <td>NaN</td>\n",
       "      <td>of</td>\n",
       "      <td>IN</td>\n",
       "      <td>O</td>\n",
       "    </tr>\n",
       "    <tr>\n",
       "      <th>2</th>\n",
       "      <td>NaN</td>\n",
       "      <td>demonstrators</td>\n",
       "      <td>NNS</td>\n",
       "      <td>O</td>\n",
       "    </tr>\n",
       "    <tr>\n",
       "      <th>3</th>\n",
       "      <td>NaN</td>\n",
       "      <td>have</td>\n",
       "      <td>VBP</td>\n",
       "      <td>O</td>\n",
       "    </tr>\n",
       "    <tr>\n",
       "      <th>4</th>\n",
       "      <td>NaN</td>\n",
       "      <td>marched</td>\n",
       "      <td>VBN</td>\n",
       "      <td>O</td>\n",
       "    </tr>\n",
       "  </tbody>\n",
       "</table>\n",
       "</div>"
      ],
      "text/plain": [
       "    Sentence #           Word  POS Tag\n",
       "0  Sentence: 1      Thousands  NNS   O\n",
       "1          NaN             of   IN   O\n",
       "2          NaN  demonstrators  NNS   O\n",
       "3          NaN           have  VBP   O\n",
       "4          NaN        marched  VBN   O"
      ]
     },
     "execution_count": 2,
     "metadata": {},
     "output_type": "execute_result"
    }
   ],
   "source": [
    "data = pd.read_csv('ner_dataset.csv', encoding= 'unicode_escape')\n",
    "data.head()"
   ]
  },
  {
   "cell_type": "code",
   "execution_count": 3,
   "id": "d7f8cda9",
   "metadata": {
    "ExecuteTime": {
     "end_time": "2023-09-01T10:25:07.929690Z",
     "start_time": "2023-09-01T10:25:07.853025Z"
    }
   },
   "outputs": [],
   "source": [
    "from itertools import chain\n",
    "def get_dict_map(data, token_or_tag):\n",
    "    tok2idx = {}\n",
    "    idx2tok = {}\n",
    "    \n",
    "    if token_or_tag == 'token':\n",
    "        vocab = list(set(data['Word'].to_list()))\n",
    "    else:\n",
    "        vocab = list(set(data['Tag'].to_list()))\n",
    "    \n",
    "    idx2tok = {idx:tok for  idx, tok in enumerate(vocab)}\n",
    "    tok2idx = {tok:idx for  idx, tok in enumerate(vocab)}\n",
    "    return tok2idx, idx2tok\n",
    "token2idx, idx2token = get_dict_map(data, 'token')\n",
    "tag2idx, idx2tag = get_dict_map(data, 'tag')"
   ]
  },
  {
   "cell_type": "code",
   "execution_count": 4,
   "id": "633b089e",
   "metadata": {
    "ExecuteTime": {
     "end_time": "2023-09-01T10:25:14.744420Z",
     "start_time": "2023-09-01T10:25:07.932734Z"
    }
   },
   "outputs": [
    {
     "name": "stderr",
     "output_type": "stream",
     "text": [
      "C:\\Users\\marib\\AppData\\Local\\Temp\\ipykernel_3396\\1322379973.py:5: FutureWarning: Indexing with multiple keys (implicitly converted to a tuple of keys) will be deprecated, use a list instead.\n",
      "  data_group = data_fillna.groupby(\n"
     ]
    }
   ],
   "source": [
    "data['Word_idx'] = data['Word'].map(token2idx)\n",
    "data['Tag_idx'] = data['Tag'].map(tag2idx)\n",
    "data_fillna = data.fillna(method='ffill', axis=0)\n",
    "# Groupby and collect columns\n",
    "data_group = data_fillna.groupby(\n",
    "['Sentence #'],as_index=False\n",
    ")['Word', 'POS', 'Tag', 'Word_idx', 'Tag_idx'].agg(lambda x: list(x))"
   ]
  },
  {
   "cell_type": "code",
   "execution_count": 5,
   "id": "094a6c24",
   "metadata": {
    "ExecuteTime": {
     "end_time": "2023-09-01T10:25:43.416343Z",
     "start_time": "2023-09-01T10:25:14.745421Z"
    }
   },
   "outputs": [
    {
     "name": "stdout",
     "output_type": "stream",
     "text": [
      "train_tokens length: 32372 \n",
      "train_tokens length: 32372 \n",
      "test_tokens length: 4796 \n",
      "test_tags: 4796 \n",
      "val_tokens: 10791 \n",
      "val_tags: 10791\n"
     ]
    }
   ],
   "source": [
    "from sklearn.model_selection import train_test_split\n",
    "from tensorflow.keras.preprocessing.sequence import pad_sequences\n",
    "from keras.utils import to_categorical\n",
    "\n",
    "def get_pad_train_test_val(data_group, data):\n",
    "\n",
    "    #get max token and tag length\n",
    "    n_token = len(list(set(data['Word'].to_list())))\n",
    "    n_tag = len(list(set(data['Tag'].to_list())))\n",
    "\n",
    "    #Pad tokens (X var)    \n",
    "    tokens = data_group['Word_idx'].tolist()\n",
    "    maxlen = max([len(s) for s in tokens])\n",
    "    pad_tokens = pad_sequences(tokens, maxlen=maxlen, dtype='int32', padding='post', value= n_token - 1)\n",
    "\n",
    "    #Pad Tags (y var) and convert it into one hot encoding\n",
    "    tags = data_group['Tag_idx'].tolist()\n",
    "    pad_tags = pad_sequences(tags, maxlen=maxlen, dtype='int32', padding='post', value= tag2idx[\"O\"])\n",
    "    n_tags = len(tag2idx)\n",
    "    pad_tags = [to_categorical(i, num_classes=n_tags) for i in pad_tags]\n",
    "    \n",
    "    #Split train, test and validation set\n",
    "    tokens_, test_tokens, tags_, test_tags = train_test_split(pad_tokens, pad_tags, test_size=0.1, train_size=0.9, random_state=2020)\n",
    "    train_tokens, val_tokens, train_tags, val_tags = train_test_split(tokens_,tags_,test_size = 0.25,train_size =0.75, random_state=2020)\n",
    "\n",
    "    print(\n",
    "        'train_tokens length:', len(train_tokens),\n",
    "        '\\ntrain_tokens length:', len(train_tokens),\n",
    "        '\\ntest_tokens length:', len(test_tokens),\n",
    "        '\\ntest_tags:', len(test_tags),\n",
    "        '\\nval_tokens:', len(val_tokens),\n",
    "        '\\nval_tags:', len(val_tags),\n",
    "    )\n",
    "    \n",
    "    return train_tokens, val_tokens, test_tokens, train_tags, val_tags, test_tags\n",
    "\n",
    "train_tokens, val_tokens, test_tokens, train_tags, val_tags, test_tags = get_pad_train_test_val(data_group, data)"
   ]
  },
  {
   "cell_type": "code",
   "execution_count": 6,
   "id": "08d6e4a4",
   "metadata": {
    "ExecuteTime": {
     "end_time": "2023-09-01T10:25:43.431472Z",
     "start_time": "2023-09-01T10:25:43.417343Z"
    }
   },
   "outputs": [],
   "source": [
    "import numpy as np\n",
    "import tensorflow\n",
    "from tensorflow.keras import Sequential, Model, Input\n",
    "from tensorflow.keras.layers import LSTM, Embedding, Dense, TimeDistributed, Dropout, Bidirectional\n",
    "from tensorflow.keras.utils import plot_model\n",
    "from numpy.random import seed\n",
    "seed(1)\n",
    "tensorflow.random.set_seed(2)"
   ]
  },
  {
   "cell_type": "code",
   "execution_count": 7,
   "id": "1aa96b4a",
   "metadata": {
    "ExecuteTime": {
     "end_time": "2023-09-01T10:25:43.495096Z",
     "start_time": "2023-09-01T10:25:43.432975Z"
    }
   },
   "outputs": [],
   "source": [
    "input_dim = len(list(set(data['Word'].to_list())))+1\n",
    "output_dim = 64\n",
    "input_length = max([len(s) for s in data_group['Word_idx'].tolist()])\n",
    "n_tags = len(tag2idx)"
   ]
  },
  {
   "cell_type": "code",
   "execution_count": 8,
   "id": "8aae02fc",
   "metadata": {
    "ExecuteTime": {
     "end_time": "2023-09-01T10:25:43.511126Z",
     "start_time": "2023-09-01T10:25:43.496098Z"
    }
   },
   "outputs": [],
   "source": [
    "def get_bilstm_lstm_model():\n",
    "    model = Sequential()\n",
    "\n",
    "    # Add Embedding layer\n",
    "    model.add(Embedding(input_dim=input_dim, output_dim=output_dim, input_length=input_length))\n",
    "\n",
    "    # Add bidirectional LSTM\n",
    "    model.add(Bidirectional(LSTM(units=output_dim, return_sequences=True, dropout=0.2, recurrent_dropout=0.2), merge_mode = 'concat'))\n",
    "\n",
    "    # Add LSTM\n",
    "    model.add(LSTM(units=output_dim, return_sequences=True, dropout=0.5, recurrent_dropout=0.5))\n",
    "\n",
    "    # Add timeDistributed Layer\n",
    "    model.add(TimeDistributed(Dense(n_tags, activation=\"relu\")))\n",
    "\n",
    "    #Optimiser \n",
    "    # adam = k.optimizers.Adam(lr=0.0005, beta_1=0.9, beta_2=0.999)\n",
    "\n",
    "    # Compile model\n",
    "    model.compile(loss='categorical_crossentropy', optimizer='adam', metrics=['accuracy'])\n",
    "    model.summary()\n",
    "    \n",
    "    return model"
   ]
  },
  {
   "cell_type": "code",
   "execution_count": 9,
   "id": "5dd32739",
   "metadata": {
    "ExecuteTime": {
     "end_time": "2023-09-01T10:25:43.526651Z",
     "start_time": "2023-09-01T10:25:43.513128Z"
    }
   },
   "outputs": [],
   "source": [
    "def train_model(X, y, model):\n",
    "    loss = list()\n",
    "    for i in range(25):\n",
    "        # fit model for one epoch on this sequence\n",
    "        hist = model.fit(X, y, batch_size=1000, verbose=1, epochs=1, validation_split=0.2)\n",
    "        loss.append(hist.history['loss'][0])\n",
    "    return loss"
   ]
  },
  {
   "cell_type": "code",
   "execution_count": 10,
   "id": "cfb2acf6",
   "metadata": {
    "ExecuteTime": {
     "end_time": "2023-09-01T11:37:50.286959Z",
     "start_time": "2023-09-01T10:25:43.531160Z"
    }
   },
   "outputs": [
    {
     "name": "stdout",
     "output_type": "stream",
     "text": [
      "Model: \"sequential\"\n",
      "_________________________________________________________________\n",
      " Layer (type)                Output Shape              Param #   \n",
      "=================================================================\n",
      " embedding (Embedding)       (None, 104, 64)           2251456   \n",
      "                                                                 \n",
      " bidirectional (Bidirectiona  (None, 104, 128)         66048     \n",
      " l)                                                              \n",
      "                                                                 \n",
      " lstm_1 (LSTM)               (None, 104, 64)           49408     \n",
      "                                                                 \n",
      " time_distributed (TimeDistr  (None, 104, 17)          1105      \n",
      " ibuted)                                                         \n",
      "                                                                 \n",
      "=================================================================\n",
      "Total params: 2,368,017\n",
      "Trainable params: 2,368,017\n",
      "Non-trainable params: 0\n",
      "_________________________________________________________________\n",
      "You must install pydot (`pip install pydot`) and install graphviz (see instructions at https://graphviz.gitlab.io/download/) for plot_model to work.\n",
      "26/26 [==============================] - 99s 4s/step - loss: 0.9517 - accuracy: 0.9285 - val_loss: 0.3245 - val_accuracy: 0.9681\n",
      "26/26 [==============================] - 110s 4s/step - loss: 0.3428 - accuracy: 0.9675 - val_loss: 0.2875 - val_accuracy: 0.9682\n",
      "26/26 [==============================] - 125s 5s/step - loss: 0.2917 - accuracy: 0.9677 - val_loss: 0.2661 - val_accuracy: 0.9682\n",
      "26/26 [==============================] - 137s 5s/step - loss: 0.2732 - accuracy: 0.9677 - val_loss: 0.2490 - val_accuracy: 0.9681\n",
      "26/26 [==============================] - 146s 6s/step - loss: 0.2945 - accuracy: 0.9678 - val_loss: 0.6566 - val_accuracy: 0.9669\n",
      "26/26 [==============================] - 157s 6s/step - loss: 0.6963 - accuracy: 0.8569 - val_loss: 0.4028 - val_accuracy: 0.9495\n",
      "26/26 [==============================] - 165s 6s/step - loss: 0.3491 - accuracy: 0.9591 - val_loss: 0.2988 - val_accuracy: 0.9647\n",
      "26/26 [==============================] - 167s 6s/step - loss: 0.2790 - accuracy: 0.9654 - val_loss: 0.2552 - val_accuracy: 0.9679\n",
      "26/26 [==============================] - 172s 7s/step - loss: 0.2560 - accuracy: 0.9676 - val_loss: 0.2618 - val_accuracy: 0.9681\n",
      "26/26 [==============================] - 175s 7s/step - loss: 0.2154 - accuracy: 0.9676 - val_loss: 0.1771 - val_accuracy: 0.9681\n",
      "26/26 [==============================] - 178s 7s/step - loss: 0.1671 - accuracy: 0.9678 - val_loss: 0.1505 - val_accuracy: 0.9683\n",
      "26/26 [==============================] - 179s 7s/step - loss: 0.1529 - accuracy: 0.9679 - val_loss: 0.1444 - val_accuracy: 0.9683\n",
      "26/26 [==============================] - 187s 7s/step - loss: 0.1429 - accuracy: 0.9680 - val_loss: 0.1356 - val_accuracy: 0.9683\n",
      "26/26 [==============================] - 186s 7s/step - loss: 0.1357 - accuracy: 0.9680 - val_loss: 0.1302 - val_accuracy: 0.9683\n",
      "26/26 [==============================] - 188s 7s/step - loss: 0.1282 - accuracy: 0.9680 - val_loss: 0.1270 - val_accuracy: 0.9684\n",
      "26/26 [==============================] - 189s 7s/step - loss: 0.1236 - accuracy: 0.9681 - val_loss: 0.1235 - val_accuracy: 0.9685\n",
      "26/26 [==============================] - 191s 7s/step - loss: 0.1207 - accuracy: 0.9681 - val_loss: 0.1210 - val_accuracy: 0.9685\n",
      "26/26 [==============================] - 192s 7s/step - loss: 0.1168 - accuracy: 0.9682 - val_loss: 0.1237 - val_accuracy: 0.9686\n",
      "26/26 [==============================] - 193s 7s/step - loss: 0.1177 - accuracy: 0.9682 - val_loss: 0.1213 - val_accuracy: 0.9686\n",
      "26/26 [==============================] - 195s 8s/step - loss: 0.1130 - accuracy: 0.9683 - val_loss: 0.1186 - val_accuracy: 0.9687\n",
      "26/26 [==============================] - 197s 8s/step - loss: 0.1062 - accuracy: 0.9684 - val_loss: 0.1142 - val_accuracy: 0.9688\n",
      "26/26 [==============================] - 195s 8s/step - loss: 0.1058 - accuracy: 0.9684 - val_loss: 0.1119 - val_accuracy: 0.9688\n",
      "26/26 [==============================] - 194s 7s/step - loss: 0.1738 - accuracy: 0.9684 - val_loss: 0.1909 - val_accuracy: 0.9687\n",
      "26/26 [==============================] - 197s 8s/step - loss: 0.1396 - accuracy: 0.9685 - val_loss: 0.1315 - val_accuracy: 0.9693\n",
      "26/26 [==============================] - 211s 8s/step - loss: 0.1117 - accuracy: 0.9687 - val_loss: 0.1151 - val_accuracy: 0.9692\n"
     ]
    }
   ],
   "source": [
    "results = pd.DataFrame()\n",
    "model_bilstm_lstm = get_bilstm_lstm_model()\n",
    "plot_model(model_bilstm_lstm)\n",
    "results['with_add_lstm'] = train_model(train_tokens, np.array(train_tags), model_bilstm_lstm)"
   ]
  },
  {
   "cell_type": "code",
   "execution_count": 22,
   "id": "e612907e",
   "metadata": {
    "ExecuteTime": {
     "end_time": "2023-09-01T13:45:52.115871Z",
     "start_time": "2023-09-01T13:45:51.529700Z"
    },
    "scrolled": true
   },
   "outputs": [
    {
     "data": {
      "text/html": [
       "<span class=\"tex2jax_ignore\"><div class=\"entities\" style=\"line-height: 2.5; direction: ltr\">Hi, I am Hasseeb Ahmad <br> I am from \n",
       "<mark class=\"entity\" style=\"background: #feca74; padding: 0.45em 0.6em; margin: 0 0.25em; line-height: 1; border-radius: 0.35em;\">\n",
       "    Pakistan\n",
       "    <span style=\"font-size: 0.8em; font-weight: bold; line-height: 1; border-radius: 0.35em; vertical-align: middle; margin-left: 0.5rem\">GPE</span>\n",
       "</mark>\n",
       " <br> I want to work with Tesla <br> \n",
       "<mark class=\"entity\" style=\"background: #aa9cfc; padding: 0.45em 0.6em; margin: 0 0.25em; line-height: 1; border-radius: 0.35em;\">\n",
       "    Steve Jobs\n",
       "    <span style=\"font-size: 0.8em; font-weight: bold; line-height: 1; border-radius: 0.35em; vertical-align: middle; margin-left: 0.5rem\">PERSON</span>\n",
       "</mark>\n",
       " is My Inspiration. <br> I want to visit \n",
       "<mark class=\"entity\" style=\"background: #feca74; padding: 0.45em 0.6em; margin: 0 0.25em; line-height: 1; border-radius: 0.35em;\">\n",
       "    Japan\n",
       "    <span style=\"font-size: 0.8em; font-weight: bold; line-height: 1; border-radius: 0.35em; vertical-align: middle; margin-left: 0.5rem\">GPE</span>\n",
       "</mark>\n",
       "</div></span>"
      ],
      "text/plain": [
       "<IPython.core.display.HTML object>"
      ]
     },
     "metadata": {},
     "output_type": "display_data"
    }
   ],
   "source": [
    "import spacy\n",
    "from spacy import displacy\n",
    "nlp = spacy.load('en_core_web_sm')\n",
    "text = nlp('Hi, I am Hasseeb Ahmad \\n I am from Pakistan \\n I want to work with Tesla \\n Steve Jobs is My Inspiration. \\n I want to visit Japan')\n",
    "displacy.render(text, style = 'ent', jupyter=True)"
   ]
  }
 ],
 "metadata": {
  "kernelspec": {
   "display_name": "Python 3 (ipykernel)",
   "language": "python",
   "name": "python3"
  },
  "language_info": {
   "codemirror_mode": {
    "name": "ipython",
    "version": 3
   },
   "file_extension": ".py",
   "mimetype": "text/x-python",
   "name": "python",
   "nbconvert_exporter": "python",
   "pygments_lexer": "ipython3",
   "version": "3.10.9"
  }
 },
 "nbformat": 4,
 "nbformat_minor": 5
}
